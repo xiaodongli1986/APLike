{
 "cells": [
  {
   "cell_type": "code",
   "execution_count": 27,
   "metadata": {},
   "outputs": [
    {
     "name": "stdout",
     "output_type": "stream",
     "text": [
      "Populating the interactive namespace from numpy and matplotlib\n"
     ]
    },
    {
     "name": "stderr",
     "output_type": "stream",
     "text": [
      "/home/xiaodongli/software/anaconda2/lib/python2.7/site-packages/IPython/core/magics/pylab.py:161: UserWarning: pylab import has clobbered these variables: ['product', 'copy', 'random', 'transpose']\n",
      "`%matplotlib` prevents importing * from pylab and numpy\n",
      "  \"\\n`%matplotlib` prevents importing * from pylab and numpy\"\n"
     ]
    }
   ],
   "source": [
    "%pylab inline\n",
    "execfile('/home/xiaodongli/software/pythonlib/stdA.py')\n",
    "import random"
   ]
  },
  {
   "cell_type": "code",
   "execution_count": 50,
   "metadata": {},
   "outputs": [
    {
     "name": "stdout",
     "output_type": "stream",
     "text": [
      "Variance of the two arrays: 1.00490906122 9.94865013047e-05\n",
      "0.505 0.707142135642 0.58790635911\n"
     ]
    },
    {
     "data": {
      "image/png": "[encoded data removed]",
      "text/plain": [
       "<matplotlib.figure.Figure at 0x7faa78e4cfd0>"
      ]
     },
     "metadata": {},
     "output_type": "display_data"
    }
   ],
   "source": [
    "sig1, sig2 = 1, 0.01\n",
    "n = 10**5\n",
    "\n",
    "X = [(random.normalvariate(0, sig1)) for row in range(n)]\n",
    "Y = [(random.normalvariate(0, sig2)) for row in range(n)]\n",
    "\n",
    "var1, var2 =  array(X).var(), array(Y).var()\n",
    "\n",
    "print 'Variance of the two arrays:', var1, var2\n",
    "\n",
    "V = np.array([abs(xx) for xx in X]+[-abs(yy) for yy in Y]); \n",
    "plt.hist(V,bins=1000)\n",
    "var3 = V.var()\n",
    "\n",
    "print (sig1+sig2)/2., sqrt((sig1**2+sig2**2)/2.), sqrt(var3)"
   ]
  },
  {
   "cell_type": "code",
   "execution_count": 33,
   "metadata": {},
   "outputs": [
    {
     "data": {
      "image/png": "[encoded data removed]",
      "text/plain": [
       "<matplotlib.figure.Figure at 0x7faa80dd8ad0>"
      ]
     },
     "metadata": {},
     "output_type": "display_data"
    }
   ],
   "source": [
    "plt.hist(V,bins=1000);"
   ]
  },
  {
   "cell_type": "code",
   "execution_count": 29,
   "metadata": {},
   "outputs": [
    {
     "name": "stdout",
     "output_type": "stream",
     "text": [
      "1.5 1.41421356237 1.53127588904\n"
     ]
    }
   ],
   "source": [
    "print (sig1+sig2)/2., ((sig1**2+sig2**2)/2)**0.5, sig"
   ]
  },
  {
   "cell_type": "code",
   "execution_count": 31,
   "metadata": {},
   "outputs": [
    {
     "name": "stdout",
     "output_type": "stream",
     "text": [
      "0.364019417574\n"
     ]
    }
   ],
   "source": [
    "print array(X).var()"
   ]
  },
  {
   "cell_type": "code",
   "execution_count": null,
   "metadata": {
    "collapsed": true
   },
   "outputs": [],
   "source": []
  }
 ],
 "metadata": {
  "kernelspec": {
   "display_name": "Python 2",
   "language": "python",
   "name": "python2"
  },
  "language_info": {
   "codemirror_mode": {
    "name": "ipython",
    "version": 2
   },
   "file_extension": ".py",
   "mimetype": "text/x-python",
   "name": "python",
   "nbconvert_exporter": "python",
   "pygments_lexer": "ipython2",
   "version": "2.7.14"
  }
 },
 "nbformat": 4,
 "nbformat_minor": 2
}
